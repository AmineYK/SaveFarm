{
 "cells": [
  {
   "cell_type": "code",
   "execution_count": 2,
   "id": "87b52222",
   "metadata": {},
   "outputs": [],
   "source": [
    "import pandas as pd\n",
    "import numpy as np\n",
    "import matplotlib.pyplot as plt\n",
    "from tensorflow import keras\n",
    "import tensorflow as tf\n",
    "from tensorflow import keras "
   ]
  },
  {
   "cell_type": "code",
   "execution_count": 3,
   "id": "5f4e2161",
   "metadata": {},
   "outputs": [],
   "source": [
    "IMAGE_SIZE = 256\n",
    "BATCH_SIZE = 32\n",
    "CHANNELS = 3"
   ]
  },
  {
   "cell_type": "markdown",
   "id": "d0e2434b",
   "metadata": {},
   "source": [
    "# Pepper,Tomato,Potato "
   ]
  },
  {
   "cell_type": "code",
   "execution_count": 4,
   "id": "18cd3136",
   "metadata": {},
   "outputs": [],
   "source": [
    "def CNN(n_classes):\n",
    "    input_shape = (BATCH_SIZE, IMAGE_SIZE, IMAGE_SIZE, CHANNELS)\n",
    "\n",
    "    model = tf.keras.Sequential([\n",
    "        resize_and_rescale,\n",
    "        keras.layers.Conv2D(32, kernel_size = (3,3), activation='relu', input_shape=input_shape),\n",
    "        keras.layers.MaxPooling2D((2, 2)),\n",
    "        keras.layers.Conv2D(64,  kernel_size = (3,3), activation='relu'),\n",
    "        keras.layers.MaxPooling2D((2, 2)),\n",
    "        keras.layers.Conv2D(64,  kernel_size = (3,3), activation='relu'),\n",
    "        keras.layers.MaxPooling2D((2, 2)),\n",
    "        keras.layers.Conv2D(64, (3, 3), activation='relu'),\n",
    "        keras.layers.MaxPooling2D((2, 2)),\n",
    "        keras.layers.Conv2D(64, (3, 3), activation='relu'),\n",
    "        keras.layers.MaxPooling2D((2, 2)),\n",
    "        keras.layers.Conv2D(64, (3, 3), activation='relu'),\n",
    "        keras.layers.MaxPooling2D((2, 2)),\n",
    "        keras.layers.Flatten(),\n",
    "        keras.layers.Dense(64, activation='relu'),\n",
    "        keras.layers.Dense(n_classes, activation='softmax'),\n",
    "    ])\n",
    "\n",
    "    model.build(input_shape=input_shape)\n",
    "\n",
    "\n",
    "    model.compile(\n",
    "        optimizer=\"adam\",\n",
    "        loss = tf.keras.losses.SparseCategoricalCrossentropy(from_logits=False),\n",
    "        metrics=\"accuracy\"\n",
    "    )\n",
    "    \n",
    "    return model\n",
    "\n",
    "def TrainCNN(model,trainset,valset,epochs):\n",
    "    model.fit(trainset,epochs=epochs,batch_size=BATCH_SIZE,verbose=1,validation_data=valset)    "
   ]
  },
  {
   "cell_type": "code",
   "execution_count": 5,
   "id": "30f5bec9",
   "metadata": {},
   "outputs": [
    {
     "name": "stdout",
     "output_type": "stream",
     "text": [
      "Found 48400 files belonging to 3 classes.\n",
      "Class names :  ['Pepper', 'Potato', 'Tomato']\n",
      "['Pepper', 'Potato', 'Tomato']\n"
     ]
    }
   ],
   "source": [
    "dataset = tf.keras.preprocessing.image_dataset_from_directory(\n",
    "    \"PlantVillage\",\n",
    "    shuffle = True,\n",
    "    image_size = (IMAGE_SIZE,IMAGE_SIZE),\n",
    "    batch_size = BATCH_SIZE,\n",
    ")\n",
    "CLASS_NAMES = dataset.class_names\n",
    "print(\"Class names : \",CLASS_NAMES)\n",
    "print(dataset.class_names)"
   ]
  },
  {
   "cell_type": "code",
   "execution_count": 6,
   "id": "71b39287",
   "metadata": {},
   "outputs": [
    {
     "name": "stdout",
     "output_type": "stream",
     "text": [
      "number of  batchs 1513\n",
      "TrainSet : number of  batchs 1210\n",
      "TestSet : number of  batchs 151\n",
      "ValSet : number of  batchs 152\n"
     ]
    }
   ],
   "source": [
    "print(\"number of  batchs\",len(dataset))\n",
    "leng = len(dataset)\n",
    "tr_size = int(leng*0.8)\n",
    "\n",
    "trainset = dataset.take(tr_size)\n",
    "rest = dataset.skip(tr_size)\n",
    "testset = rest.take(int((leng-tr_size)/2))\n",
    "valset = rest.skip(int((leng-tr_size)/2))\n",
    "\n",
    "print(\"TrainSet : number of  batchs\",len(trainset))\n",
    "print(\"TestSet : number of  batchs\",len(testset))\n",
    "print(\"ValSet : number of  batchs\",len(valset))"
   ]
  },
  {
   "cell_type": "code",
   "execution_count": 7,
   "id": "1a3cd71b",
   "metadata": {},
   "outputs": [],
   "source": [
    "trainset = trainset.cache().shuffle(1000).prefetch(buffer_size=tf.data.experimental.AUTOTUNE)\n",
    "testset = testset.cache().shuffle(1000).prefetch(buffer_size=tf.data.experimental.AUTOTUNE)\n",
    "valset = valset.cache().shuffle(1000).prefetch(buffer_size=tf.data.experimental.AUTOTUNE)"
   ]
  },
  {
   "cell_type": "code",
   "execution_count": 8,
   "id": "51caa490",
   "metadata": {},
   "outputs": [],
   "source": [
    "resize_and_rescale = tf.keras.Sequential([\n",
    "    tf.keras.layers.experimental.preprocessing.Resizing(IMAGE_SIZE,IMAGE_SIZE),\n",
    "    tf.keras.layers.experimental.preprocessing.Rescaling(1.0/255)\n",
    "])"
   ]
  },
  {
   "cell_type": "code",
   "execution_count": null,
   "id": "46430ba5",
   "metadata": {},
   "outputs": [
    {
     "name": "stdout",
     "output_type": "stream",
     "text": [
      "Epoch 1/6\n"
     ]
    }
   ],
   "source": [
    "model = CNN(3)\n",
    "\n",
    "model.fit(trainset,epochs=6,batch_size=BATCH_SIZE,verbose=1,validation_data=valset)"
   ]
  },
  {
   "cell_type": "code",
   "execution_count": null,
   "id": "fbaece4b",
   "metadata": {},
   "outputs": [],
   "source": [
    "import os\n",
    "model_version = max([int(i) for i in os.listdir(\"models\") + [0]]) + 1\n",
    "model.save(f\"models/PPT_{model_version}\")"
   ]
  },
  {
   "cell_type": "markdown",
   "id": "6fecb1ac",
   "metadata": {},
   "source": [
    "# Pepper"
   ]
  },
  {
   "cell_type": "code",
   "execution_count": 20,
   "id": "70799e58",
   "metadata": {},
   "outputs": [
    {
     "name": "stdout",
     "output_type": "stream",
     "text": [
      "Found 3727 files belonging to 2 classes.\n"
     ]
    },
    {
     "data": {
      "text/plain": [
       "['Pepper__bell___Bacterial_spot', 'Pepper__bell___healthy']"
      ]
     },
     "execution_count": 20,
     "metadata": {},
     "output_type": "execute_result"
    }
   ],
   "source": [
    "pepper = tf.keras.preprocessing.image_dataset_from_directory(\n",
    "    \"PlantVillage/Pepper\",\n",
    "    shuffle = True,\n",
    "    image_size = (IMAGE_SIZE,IMAGE_SIZE),\n",
    "    batch_size = BATCH_SIZE  \n",
    ")\n",
    "\n",
    "pepper.class_names"
   ]
  },
  {
   "cell_type": "code",
   "execution_count": 21,
   "id": "78448979",
   "metadata": {},
   "outputs": [
    {
     "name": "stdout",
     "output_type": "stream",
     "text": [
      "Pepper Dataset Length :  117\n",
      "Pepper TrainSet length :  63\n",
      "Pepper TestSet length :  8\n",
      "Pepper ValSet length :  46\n"
     ]
    }
   ],
   "source": [
    "print(\"Pepper Dataset Length : \",len(pepper))\n",
    "\n",
    "trainset_pepper = pepper.take(63)\n",
    "rest = pepper.skip(63)\n",
    "testset_pepper = rest.take(8)\n",
    "valset_pepper = rest.skip(8)\n",
    "\n",
    "print(\"Pepper TrainSet length : \",len(trainset_pepper))\n",
    "print(\"Pepper TestSet length : \",len(testset_pepper))\n",
    "print(\"Pepper ValSet length : \",len(valset_pepper))"
   ]
  },
  {
   "cell_type": "code",
   "execution_count": 22,
   "id": "a0917dfa",
   "metadata": {},
   "outputs": [],
   "source": [
    "trainset_pepper = trainset_pepper.cache().shuffle(1000).prefetch(buffer_size=tf.data.experimental.AUTOTUNE)\n",
    "testset_pepper = testset_pepper.cache().shuffle(1000).prefetch(buffer_size=tf.data.experimental.AUTOTUNE)\n",
    "valset_pepper = valset_pepper.cache().shuffle(1000).prefetch(buffer_size=tf.data.experimental.AUTOTUNE)"
   ]
  },
  {
   "cell_type": "code",
   "execution_count": 24,
   "id": "9c4dd8c8",
   "metadata": {},
   "outputs": [
    {
     "name": "stdout",
     "output_type": "stream",
     "text": [
      "Epoch 1/25\n",
      "63/63 [==============================] - 205s 3s/step - loss: 0.5554 - accuracy: 0.7148 - val_loss: 0.3591 - val_accuracy: 0.8357\n",
      "Epoch 2/25\n",
      "63/63 [==============================] - 99s 2s/step - loss: 0.3639 - accuracy: 0.8805 - val_loss: 0.3239 - val_accuracy: 0.8426\n",
      "Epoch 3/25\n",
      "63/63 [==============================] - 100s 2s/step - loss: 0.3259 - accuracy: 0.8924 - val_loss: 0.2884 - val_accuracy: 0.9182\n",
      "Epoch 4/25\n",
      "63/63 [==============================] - 101s 2s/step - loss: 0.2389 - accuracy: 0.9147 - val_loss: 0.2113 - val_accuracy: 0.9251\n",
      "Epoch 5/25\n",
      "63/63 [==============================] - 102s 2s/step - loss: 0.2333 - accuracy: 0.9167 - val_loss: 0.2092 - val_accuracy: 0.9285\n",
      "Epoch 6/25\n",
      "63/63 [==============================] - 102s 2s/step - loss: 0.2285 - accuracy: 0.9221 - val_loss: 0.2276 - val_accuracy: 0.9100\n",
      "Epoch 7/25\n",
      "63/63 [==============================] - 102s 2s/step - loss: 0.2223 - accuracy: 0.9191 - val_loss: 0.2163 - val_accuracy: 0.9216\n",
      "Epoch 8/25\n",
      "63/63 [==============================] - 102s 2s/step - loss: 0.2183 - accuracy: 0.9226 - val_loss: 0.2043 - val_accuracy: 0.9299\n",
      "Epoch 9/25\n",
      "63/63 [==============================] - 102s 2s/step - loss: 0.2094 - accuracy: 0.9256 - val_loss: 0.2053 - val_accuracy: 0.9265\n",
      "Epoch 10/25\n",
      "63/63 [==============================] - 104s 2s/step - loss: 0.2063 - accuracy: 0.9251 - val_loss: 0.2198 - val_accuracy: 0.9196\n",
      "Epoch 11/25\n",
      "63/63 [==============================] - 102s 2s/step - loss: 0.1990 - accuracy: 0.9281 - val_loss: 0.2218 - val_accuracy: 0.9237\n",
      "Epoch 12/25\n",
      "63/63 [==============================] - 102s 2s/step - loss: 0.2394 - accuracy: 0.9092 - val_loss: 0.2139 - val_accuracy: 0.9237\n",
      "Epoch 13/25\n",
      "63/63 [==============================] - 102s 2s/step - loss: 0.2043 - accuracy: 0.9271 - val_loss: 0.2099 - val_accuracy: 0.9271\n",
      "Epoch 14/25\n",
      "63/63 [==============================] - 103s 2s/step - loss: 0.2003 - accuracy: 0.9271 - val_loss: 0.2028 - val_accuracy: 0.9292\n",
      "Epoch 15/25\n",
      "63/63 [==============================] - 102s 2s/step - loss: 0.1976 - accuracy: 0.9276 - val_loss: 0.2121 - val_accuracy: 0.9237\n",
      "Epoch 16/25\n",
      "63/63 [==============================] - 102s 2s/step - loss: 0.1993 - accuracy: 0.9271 - val_loss: 0.2091 - val_accuracy: 0.9271\n",
      "Epoch 17/25\n",
      "63/63 [==============================] - 102s 2s/step - loss: 0.1947 - accuracy: 0.9286 - val_loss: 0.2144 - val_accuracy: 0.9237\n",
      "Epoch 18/25\n",
      "63/63 [==============================] - 101s 2s/step - loss: 0.2031 - accuracy: 0.9246 - val_loss: 0.2150 - val_accuracy: 0.9237\n",
      "Epoch 19/25\n",
      "63/63 [==============================] - 102s 2s/step - loss: 0.2007 - accuracy: 0.9246 - val_loss: 0.2110 - val_accuracy: 0.9244\n",
      "Epoch 20/25\n",
      "63/63 [==============================] - 101s 2s/step - loss: 0.1907 - accuracy: 0.9311 - val_loss: 0.2156 - val_accuracy: 0.9271\n",
      "Epoch 21/25\n",
      "63/63 [==============================] - 102s 2s/step - loss: 0.1908 - accuracy: 0.9291 - val_loss: 0.2294 - val_accuracy: 0.9203\n",
      "Epoch 22/25\n",
      "63/63 [==============================] - 102s 2s/step - loss: 0.1860 - accuracy: 0.9276 - val_loss: 0.2191 - val_accuracy: 0.9237\n",
      "Epoch 23/25\n",
      "63/63 [==============================] - 101s 2s/step - loss: 0.1836 - accuracy: 0.9291 - val_loss: 0.2392 - val_accuracy: 0.9189\n",
      "Epoch 24/25\n",
      "63/63 [==============================] - 101s 2s/step - loss: 0.1899 - accuracy: 0.9256 - val_loss: 0.2392 - val_accuracy: 0.9237\n",
      "Epoch 25/25\n",
      "63/63 [==============================] - 102s 2s/step - loss: 0.1794 - accuracy: 0.9325 - val_loss: 0.2331 - val_accuracy: 0.9182\n"
     ]
    }
   ],
   "source": [
    "model_pepper = CNN(2)\n",
    "TrainCNN(model_pepper,trainset_pepper,valset_pepper,25)"
   ]
  },
  {
   "cell_type": "code",
   "execution_count": 25,
   "id": "f4c3d02b",
   "metadata": {},
   "outputs": [],
   "source": [
    "def save(model,name):\n",
    "    model_version = max([i for i in range(len(os.listdir(\"models\") + [0])) ]) + 1\n",
    "    model.save(f\"models/{name}{model_version}\")"
   ]
  },
  {
   "cell_type": "code",
   "execution_count": 60,
   "id": "52af0c02",
   "metadata": {},
   "outputs": [
    {
     "name": "stdout",
     "output_type": "stream",
     "text": [
      "INFO:tensorflow:Assets written to: models/Pepper2\\assets\n"
     ]
    }
   ],
   "source": [
    "save(model_pepper,\"Pepper\")"
   ]
  },
  {
   "cell_type": "markdown",
   "id": "76e42a24",
   "metadata": {},
   "source": [
    "# Tomato"
   ]
  },
  {
   "cell_type": "code",
   "execution_count": 5,
   "id": "3dec0c9d",
   "metadata": {},
   "outputs": [
    {
     "name": "stdout",
     "output_type": "stream",
     "text": [
      "Found 16011 files belonging to 10 classes.\n"
     ]
    },
    {
     "data": {
      "text/plain": [
       "['Tomato_Bacterial_spot',\n",
       " 'Tomato_Early_blight',\n",
       " 'Tomato_Late_blight',\n",
       " 'Tomato_Leaf_Mold',\n",
       " 'Tomato_Septoria_leaf_spot',\n",
       " 'Tomato_Spider_mites_Two_spotted_spider_mite',\n",
       " 'Tomato__Target_Spot',\n",
       " 'Tomato__Tomato_YellowLeaf__Curl_Virus',\n",
       " 'Tomato__Tomato_mosaic_virus',\n",
       " 'Tomato_healthy']"
      ]
     },
     "execution_count": 5,
     "metadata": {},
     "output_type": "execute_result"
    }
   ],
   "source": [
    "tomato = tf.keras.preprocessing.image_dataset_from_directory(\n",
    "    \"PlantVillage/Tomato\",\n",
    "    shuffle = True,\n",
    "    image_size = (IMAGE_SIZE,IMAGE_SIZE),\n",
    "    batch_size = BATCH_SIZE  \n",
    ")\n",
    "\n",
    "tomato.class_names"
   ]
  },
  {
   "cell_type": "code",
   "execution_count": 6,
   "id": "ca3e559c",
   "metadata": {},
   "outputs": [
    {
     "name": "stdout",
     "output_type": "stream",
     "text": [
      "Tomato Dataset Length :  501\n",
      "Tomato TrainSet length :  400\n",
      "Tomato TestSet length :  51\n",
      "Tomato ValSet length :  50\n"
     ]
    }
   ],
   "source": [
    "print(\"Tomato Dataset Length : \",len(tomato))\n",
    "\n",
    "trainset_tomato = tomato.take(400)\n",
    "rest = tomato.skip(400)\n",
    "testset_tomato = rest.take(51)\n",
    "valset_tomato = rest.skip(51)\n",
    "\n",
    "print(\"Tomato TrainSet length : \",len(trainset_tomato))\n",
    "print(\"Tomato TestSet length : \",len(testset_tomato))\n",
    "print(\"Tomato ValSet length : \",len(valset_tomato))"
   ]
  },
  {
   "cell_type": "code",
   "execution_count": 7,
   "id": "7e12005f",
   "metadata": {},
   "outputs": [],
   "source": [
    "trainset_tomato = trainset_tomato.cache().shuffle(1000).prefetch(buffer_size=tf.data.experimental.AUTOTUNE)\n",
    "testset_tomato = testset_tomato.cache().shuffle(1000).prefetch(buffer_size=tf.data.experimental.AUTOTUNE)\n",
    "valset_tomato = valset_tomato.cache().shuffle(1000).prefetch(buffer_size=tf.data.experimental.AUTOTUNE)"
   ]
  },
  {
   "cell_type": "code",
   "execution_count": 18,
   "id": "ccdbd2e8",
   "metadata": {},
   "outputs": [
    {
     "name": "stdout",
     "output_type": "stream",
     "text": [
      "Epoch 1/10\n",
      "400/400 [==============================] - 1054s 3s/step - loss: 1.5510 - accuracy: 0.4402 - val_loss: 0.8553 - val_accuracy: 0.7137\n",
      "Epoch 2/10\n",
      "400/400 [==============================] - 1148s 3s/step - loss: 0.7397 - accuracy: 0.7475 - val_loss: 0.5933 - val_accuracy: 0.7897\n",
      "Epoch 3/10\n",
      "400/400 [==============================] - 1294s 3s/step - loss: 0.4667 - accuracy: 0.8377 - val_loss: 0.4586 - val_accuracy: 0.8423\n",
      "Epoch 4/10\n",
      "400/400 [==============================] - 1195s 3s/step - loss: 0.3787 - accuracy: 0.8680 - val_loss: 0.2941 - val_accuracy: 0.8942\n",
      "Epoch 5/10\n",
      "400/400 [==============================] - 1226s 3s/step - loss: 0.2780 - accuracy: 0.9061 - val_loss: 0.2567 - val_accuracy: 0.9075\n",
      "Epoch 6/10\n",
      "400/400 [==============================] - 1337s 3s/step - loss: 0.2466 - accuracy: 0.9152 - val_loss: 0.2500 - val_accuracy: 0.9088\n",
      "Epoch 7/10\n",
      "400/400 [==============================] - 1246s 3s/step - loss: 0.2113 - accuracy: 0.9279 - val_loss: 0.2516 - val_accuracy: 0.9132\n",
      "Epoch 8/10\n",
      "400/400 [==============================] - 1144s 3s/step - loss: 0.1632 - accuracy: 0.9448 - val_loss: 0.2577 - val_accuracy: 0.9164\n",
      "Epoch 9/10\n",
      "400/400 [==============================] - 1352s 3s/step - loss: 0.1489 - accuracy: 0.9496 - val_loss: 0.2664 - val_accuracy: 0.9044\n",
      "Epoch 10/10\n",
      "400/400 [==============================] - 1485s 4s/step - loss: 0.1392 - accuracy: 0.9530 - val_loss: 0.2489 - val_accuracy: 0.9234\n"
     ]
    }
   ],
   "source": [
    "model_tomato = CNN(10)\n",
    "TrainCNN(model_tomato,trainset_tomato,valset_tomato,10)"
   ]
  },
  {
   "cell_type": "code",
   "execution_count": 19,
   "id": "b5d443c6",
   "metadata": {},
   "outputs": [
    {
     "name": "stdout",
     "output_type": "stream",
     "text": [
      "INFO:tensorflow:Assets written to: models/Tomato2\\assets\n"
     ]
    }
   ],
   "source": [
    "# save(model_tomato,\"Tomato\")\n",
    "model.save(f\"models/Tomato2\")"
   ]
  },
  {
   "cell_type": "markdown",
   "id": "ff21c888",
   "metadata": {},
   "source": [
    "# Potato"
   ]
  },
  {
   "cell_type": "code",
   "execution_count": 26,
   "id": "e70cf510",
   "metadata": {},
   "outputs": [
    {
     "name": "stdout",
     "output_type": "stream",
     "text": [
      "Found 2152 files belonging to 3 classes.\n"
     ]
    },
    {
     "data": {
      "text/plain": [
       "['Potato___Early_blight', 'Potato___Late_blight', 'Potato___healthy']"
      ]
     },
     "execution_count": 26,
     "metadata": {},
     "output_type": "execute_result"
    }
   ],
   "source": [
    "potato = tf.keras.preprocessing.image_dataset_from_directory(\n",
    "    \"PlantVillage/Potato\",\n",
    "    shuffle = True,\n",
    "    image_size = (IMAGE_SIZE,IMAGE_SIZE),\n",
    "    batch_size = BATCH_SIZE  \n",
    ")\n",
    "\n",
    "potato.class_names"
   ]
  },
  {
   "cell_type": "code",
   "execution_count": 27,
   "id": "c6f9c6e2",
   "metadata": {},
   "outputs": [
    {
     "name": "stdout",
     "output_type": "stream",
     "text": [
      "Potato Dataset Length :  68\n",
      "Potato TrainSet length :  54\n",
      "Potato TestSet length :  7\n",
      "Potato ValSet length :  7\n"
     ]
    }
   ],
   "source": [
    "print(\"Potato Dataset Length : \",len(potato))\n",
    "\n",
    "trainset_potato = potato.take(54)\n",
    "rest = potato.skip(54)\n",
    "testset_potato = rest.take(7)\n",
    "valset_potato = rest.skip(7)\n",
    "\n",
    "print(\"Potato TrainSet length : \",len(trainset_potato))\n",
    "print(\"Potato TestSet length : \",len(testset_potato))\n",
    "print(\"Potato ValSet length : \",len(valset_potato))"
   ]
  },
  {
   "cell_type": "code",
   "execution_count": 28,
   "id": "f5497ff1",
   "metadata": {},
   "outputs": [],
   "source": [
    "trainset_potato = trainset_potato.cache().shuffle(1000).prefetch(buffer_size=tf.data.experimental.AUTOTUNE)\n",
    "testset_potato = testset_potato.cache().shuffle(1000).prefetch(buffer_size=tf.data.experimental.AUTOTUNE)\n",
    "valset_potato = valset_potato.cache().shuffle(1000).prefetch(buffer_size=tf.data.experimental.AUTOTUNE)"
   ]
  },
  {
   "cell_type": "code",
   "execution_count": 30,
   "id": "a7d5a34c",
   "metadata": {},
   "outputs": [
    {
     "name": "stdout",
     "output_type": "stream",
     "text": [
      "Epoch 1/25\n",
      "54/54 [==============================] - 75s 1s/step - loss: 0.8896 - accuracy: 0.5330 - val_loss: 0.7817 - val_accuracy: 0.6650\n",
      "Epoch 2/25\n",
      "54/54 [==============================] - 75s 1s/step - loss: 0.6458 - accuracy: 0.7049 - val_loss: 0.4707 - val_accuracy: 0.7850\n",
      "Epoch 3/25\n",
      "54/54 [==============================] - 75s 1s/step - loss: 0.3760 - accuracy: 0.8507 - val_loss: 0.3501 - val_accuracy: 0.8750\n",
      "Epoch 4/25\n",
      "54/54 [==============================] - 75s 1s/step - loss: 0.2664 - accuracy: 0.8872 - val_loss: 0.3657 - val_accuracy: 0.8250\n",
      "Epoch 5/25\n",
      "54/54 [==============================] - 75s 1s/step - loss: 0.2176 - accuracy: 0.9248 - val_loss: 0.1730 - val_accuracy: 0.9400\n",
      "Epoch 6/25\n",
      "54/54 [==============================] - 75s 1s/step - loss: 0.1973 - accuracy: 0.9201 - val_loss: 0.2535 - val_accuracy: 0.9050\n",
      "Epoch 7/25\n",
      "54/54 [==============================] - 76s 1s/step - loss: 0.1407 - accuracy: 0.9456 - val_loss: 0.1472 - val_accuracy: 0.9450\n",
      "Epoch 8/25\n",
      "54/54 [==============================] - 76s 1s/step - loss: 0.1360 - accuracy: 0.9497 - val_loss: 0.1225 - val_accuracy: 0.9500\n",
      "Epoch 9/25\n",
      "54/54 [==============================] - 75s 1s/step - loss: 0.1239 - accuracy: 0.9520 - val_loss: 0.1056 - val_accuracy: 0.9600\n",
      "Epoch 10/25\n",
      "54/54 [==============================] - 75s 1s/step - loss: 0.0751 - accuracy: 0.9688 - val_loss: 0.1658 - val_accuracy: 0.9550\n",
      "Epoch 11/25\n",
      "54/54 [==============================] - 75s 1s/step - loss: 0.0630 - accuracy: 0.9769 - val_loss: 0.2290 - val_accuracy: 0.9250\n",
      "Epoch 12/25\n",
      "54/54 [==============================] - 75s 1s/step - loss: 0.0995 - accuracy: 0.9635 - val_loss: 0.1159 - val_accuracy: 0.9700\n",
      "Epoch 13/25\n",
      "54/54 [==============================] - 75s 1s/step - loss: 0.0569 - accuracy: 0.9757 - val_loss: 0.1147 - val_accuracy: 0.9650\n",
      "Epoch 14/25\n",
      "54/54 [==============================] - 76s 1s/step - loss: 0.0602 - accuracy: 0.9803 - val_loss: 0.0634 - val_accuracy: 0.9700\n",
      "Epoch 15/25\n",
      "54/54 [==============================] - 75s 1s/step - loss: 0.0465 - accuracy: 0.9826 - val_loss: 0.0838 - val_accuracy: 0.9650\n",
      "Epoch 16/25\n",
      "54/54 [==============================] - 75s 1s/step - loss: 0.0224 - accuracy: 0.9931 - val_loss: 0.0876 - val_accuracy: 0.9700\n",
      "Epoch 17/25\n",
      "54/54 [==============================] - 75s 1s/step - loss: 0.0443 - accuracy: 0.9838 - val_loss: 0.0941 - val_accuracy: 0.9700\n",
      "Epoch 18/25\n",
      "54/54 [==============================] - 75s 1s/step - loss: 0.0198 - accuracy: 0.9936 - val_loss: 0.0708 - val_accuracy: 0.9750\n",
      "Epoch 19/25\n",
      "54/54 [==============================] - 75s 1s/step - loss: 0.0275 - accuracy: 0.9884 - val_loss: 0.1510 - val_accuracy: 0.9500\n",
      "Epoch 20/25\n",
      "54/54 [==============================] - 74s 1s/step - loss: 0.0482 - accuracy: 0.9826 - val_loss: 0.1764 - val_accuracy: 0.9550\n",
      "Epoch 21/25\n",
      "54/54 [==============================] - 75s 1s/step - loss: 0.0086 - accuracy: 0.9977 - val_loss: 0.0804 - val_accuracy: 0.9750\n",
      "Epoch 22/25\n",
      "54/54 [==============================] - 74s 1s/step - loss: 0.0015 - accuracy: 1.0000 - val_loss: 0.0919 - val_accuracy: 0.9750\n",
      "Epoch 23/25\n",
      "54/54 [==============================] - 75s 1s/step - loss: 5.6330e-04 - accuracy: 1.0000 - val_loss: 0.1024 - val_accuracy: 0.9600\n",
      "Epoch 24/25\n",
      "54/54 [==============================] - 75s 1s/step - loss: 2.7092e-04 - accuracy: 1.0000 - val_loss: 0.1055 - val_accuracy: 0.9650\n",
      "Epoch 25/25\n",
      "54/54 [==============================] - 75s 1s/step - loss: 1.8977e-04 - accuracy: 1.0000 - val_loss: 0.1069 - val_accuracy: 0.9650\n"
     ]
    }
   ],
   "source": [
    "model_potato = CNN(3)\n",
    "TrainCNN(model_potato,trainset_potato,valset_potato,25)"
   ]
  },
  {
   "cell_type": "code",
   "execution_count": 31,
   "id": "5265353e",
   "metadata": {},
   "outputs": [
    {
     "name": "stdout",
     "output_type": "stream",
     "text": [
      "INFO:tensorflow:Assets written to: models/Potato8\\assets\n"
     ]
    }
   ],
   "source": [
    "model.save(f\"models/Potato8\")"
   ]
  }
 ],
 "metadata": {
  "kernelspec": {
   "display_name": "Python 3",
   "language": "python",
   "name": "python3"
  },
  "language_info": {
   "codemirror_mode": {
    "name": "ipython",
    "version": 3
   },
   "file_extension": ".py",
   "mimetype": "text/x-python",
   "name": "python",
   "nbconvert_exporter": "python",
   "pygments_lexer": "ipython3",
   "version": "3.8.8"
  }
 },
 "nbformat": 4,
 "nbformat_minor": 5
}
